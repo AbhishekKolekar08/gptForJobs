{
 "cells": [
  {
   "cell_type": "code",
   "execution_count": 63,
   "metadata": {},
   "outputs": [
    {
     "data": {
      "text/plain": [
       "\"Abhishek Kolekar abhishek_kolekar@outlook.com +46727777635 Framgången 220, Göteborg, 41280 /kolekar-abhishek Transcript Profile Have IDP, B-type ongoing Passionate engineer with a strong interest in the automotive industry, with multifaceted knowledge in areas of powertrain systems and vehicle dynamics. I hold a Master of Science in Mobility Engineering, focusing on vehicle dynamics, safety, and control. Through various roles during my Formula Student tenure and projects, I have developed skills and knowledge geared toward vehicle propulsion and energy storage systems, balancing performance and efficiency. Motivated and detail-oriented, I strive to build sustainable and impactful technologies. I am eager to bring my expertise and enthusiasm to your company, where I can grow professionally while contributing to shaping the future of mobility. Education Chalmers University of Technology Master of Science (MSc.) in Mobility Engineering  Focus on Vehicle Dynamics, Safety & Control PCT's A. P. Shah Institute of Technology Bachelor of Engineering (BE) in Mechanical Engineering Projects Tire Warmup Relation to Rolling Resistance Master's Thesis with Volvo Car Corporation  Designed an innovative MATLAB model for calculating transient rolling resistance using tire temperature as a model input, enhancing the precision of energy efficiency assessments and adding insights to the tire selection process.  Improved upon and verified and validated an existing Thermal-Schuring model for rolling resistance through statistical analysis of experimental data, achieving model accuracy within 5% of measured values.  Developed test methodologies and conducted rolling resistance tests on steel drum and dynamometer rigs over a 4-month period; employed INCA, MDA, and MATLAB for comprehensive data analysis.  Proactively identified opportunities to improve vehicle efficiency from a rolling resistance perspective, with modeled rolling energy loss deviating between 3% and 6% from measured values.  Acquired knowledge of range testing certification in accordance with the SAE J1634 standard. Method to Improve a Wheel Suspension Design using VI-CarRealTime and optimization techniques Automotive Engineering Project with Volvo Car Corporation  Automated vehicle simulations in VI-CarRealTime by integrating it with a Reinforcement Learning Agent via the MATLAB API.  Utilized Reinforcement Learning to optimize polynomial curve coefficients of wheel motion splines, consistently achieving specified target ranges. Drivetrain Anomaly Troubleshooting and HIL Integration of ECU using CAN Protocol for Formula Student Vehicle Summer Project at Chalmers REVERE  Conducted Hardware-in-the-Loop (HIL) testing for motor control.  Assisted in developing a Python script to establish communication between the motor controller and the ECU using the CAN protocol. Virtual Vehicle Control Design & SIL Testing using IPG CarMaker Vehicle Motion & Control - Course Project  Designed a normal force estimator and implemented a low-normal force warning function.  Modeled AD/ADAS features such as cruise control and curve speed control; executed function verification and validation (V&V) and performed Software-in-the-Loop (SIL) testing using IPG CarMaker.  Optimized suspension tuning parameters and compliances, achieving the desired handling characteristics. 08/2022 – 08/2024 | Göteborg, Sweden08/2018 – 11/2022 | Thane, India01/2024 – 06/202408/2023 – 01/202406/2023 – 08/202303/2023 – 05/2023 Microservice Development with CI/CD Integration Connected Fleets - Course Project  Formulated a simple microservice using Docker containers.  Established a CI/CD pipeline using GitLab to automate the build, test, and deployment process for the microservice with cross-compilation across different architectures (linux/amd64 and linux/arm64). Other Notable Relevant Projects  Development of a Lap-Time Simulation and Energy Consumption Estimation for Electric Vehicles  Development of Traction Control in Automobiles.  CFD Analysis, Wind Tunnel Testing, and Shape Optimization of a Bus Model. Positions of Responsibility Modified Auto Club Racing - Formula Student Team Manager  Managed and supervised a team of 32 people, devising solutions for cohesive working and problem solving, achieving the 7th overall rank in the Formula Bharat Virtuals 2021 competition.  Prepared design critical documents like FMEA, Design Verification & Validation Plan, Design Spec Sheet, Production Planning Gantt Chart, and Cost Report of the vehicle. Modified Auto Club Racing - Formula Student Powertrain Department Lead  Led a team in designing a high-performance Formula Student vehicle's drivetrain, achieving a 0-100 km/hr theoretical time under 3.5 seconds and a top speed of 115 km/hr.  Optimized drivetrain parameters for performance and energy efficiency using MATLAB and OptimumLap, improving efficiency by 12% from baseline spec.  Designed parts and assemblies of the drivetrain subsystem in SOLIDWORKS & CATIA V5, and carried out structural FEM analysis using ANSYS Mechanical. Certificates Certified SOLIDWORKS Associate - Mechanical Design Certified SOLIDWORKS Associate - Additive Manufacturing ENGR2000X: A Hands-on Introduction to Engineering Simulations - CornellX - EdX Software Skills MATLAB/Simulink Microsoft Office Suite Git Python C++ MDA & INCA CAN (using Kvaser CanKing) CI/CD (Gitlab, Docker, Jenkins) Languages English References References Available Upon Request Swedish 02/2021 – 11/202102/2021 – 11/2021 — Expert — Expert — Proficient — Competent — Expert — Proficient — Proficient — Competent — Native/Bilingual — Conversational\""
      ]
     },
     "metadata": {},
     "output_type": "display_data"
    }
   ],
   "source": [
    "from pdfminer.high_level import extract_text\n",
    "import spacy\n",
    "import re\n",
    "\n",
    "# Extracting text from pdf as is\n",
    "def extract_text_from_pdf(pdf_path):\n",
    "    return extract_text(pdf_path)\n",
    "\n",
    "# Cleaning up the text for better processing in the later stages\n",
    "def clean_text(text):\n",
    "    text = re.sub(r'\\n+', '\\n', text)   # Remove newlines\n",
    "    text = re.sub(r'\\s+', ' ', text)    # Remove multiple spaces\n",
    "    text = re.sub(r'Page \\d+ of \\d+', '', text) # Remove page numbers\n",
    "    text = text.replace('•', ' ')   # Replace bullets with space.\n",
    "    text = re.sub(r'\\+46-\\d{9}', lambda x: x.group().replace('-', ''), text) # Remove hyphens or spaces in phone number \n",
    "    text = text.strip() # Remove redundant spaces\n",
    "    return text\n",
    "\n",
    "# Main part of the script - Taking out important data\n",
    "nlp = spacy.load(\"en_core_web_lg\")\n",
    "EMAIL_PATTERN = r'[a-zA-Z0-9._%+-]+@[a-zA-Z0-9.-]+\\.[a-zA-Z]{2,}'\n",
    "PHONE_PATTERN = r'(?:(?:\\+|00)(?:\\d{1,3}))?[-.\\s]?(?:\\(?\\d{1,4}\\)?)?[-.\\s]?\\d{1,4}[-.\\s]?\\d{1,4}[-.\\s]?\\d{1,9}'\n",
    "\n",
    "def extract_info(text):\n",
    "    # Process text with spaCy\n",
    "    doc = nlp(text)\n",
    "    extracted_data = {\n",
    "        \"names\": [],\n",
    "        \"emails\": [],\n",
    "        \"phones\": [],\n",
    "        \"skills\": []\n",
    "    }\n",
    "\n",
    "    # Name\n",
    "    for ent in doc.ents:\n",
    "        if ent.label_ == \"PERSON\":\n",
    "            if not extracted_data[\"names\"]:\n",
    "                extracted_data[\"names\"].append(ent.text)\n",
    "\n",
    "    # Phone number and email\n",
    "    extracted_data[\"emails\"] = re.findall(EMAIL_PATTERN, text)\n",
    "    extracted_data[\"phones\"] = max(re.findall(PHONE_PATTERN, text), key=len)\n",
    "    # The phone number extraction also extracts dates from the later sections.\n",
    "    # Thus, max() is used with the length of string being the primary keyword.\n",
    "    # Hopefully it works in most, if not all, cases.\n",
    "    \n",
    "    # Experiences & Projects\n",
    "\n",
    "    # Skills\n",
    "    \n",
    "\n",
    "    return extracted_data\n",
    "\n",
    "filename = \"AbhishekKolekar_Resume.pdf\"\n",
    "textFromResume = clean_text(extract_text_from_pdf(filename))\n",
    "infoFromResume = extract_info(textFromResume)\n",
    "\n",
    "display(textFromResume)"
   ]
  },
  {
   "cell_type": "code",
   "execution_count": 61,
   "metadata": {},
   "outputs": [
    {
     "data": {
      "text/plain": [
       "['A',\n",
       " 'ASCII',\n",
       " 'DEBUG',\n",
       " 'DOTALL',\n",
       " 'I',\n",
       " 'IGNORECASE',\n",
       " 'L',\n",
       " 'LOCALE',\n",
       " 'M',\n",
       " 'MULTILINE',\n",
       " 'Match',\n",
       " 'NOFLAG',\n",
       " 'Pattern',\n",
       " 'RegexFlag',\n",
       " 'S',\n",
       " 'Scanner',\n",
       " 'T',\n",
       " 'TEMPLATE',\n",
       " 'U',\n",
       " 'UNICODE',\n",
       " 'VERBOSE',\n",
       " 'X',\n",
       " '_MAXCACHE',\n",
       " '__all__',\n",
       " '__builtins__',\n",
       " '__cached__',\n",
       " '__doc__',\n",
       " '__file__',\n",
       " '__loader__',\n",
       " '__name__',\n",
       " '__package__',\n",
       " '__path__',\n",
       " '__spec__',\n",
       " '__version__',\n",
       " '_cache',\n",
       " '_casefix',\n",
       " '_compile',\n",
       " '_compile_repl',\n",
       " '_compiler',\n",
       " '_constants',\n",
       " '_expand',\n",
       " '_parser',\n",
       " '_pickle',\n",
       " '_special_chars_map',\n",
       " '_subx',\n",
       " 'compile',\n",
       " 'copyreg',\n",
       " 'enum',\n",
       " 'error',\n",
       " 'escape',\n",
       " 'findall',\n",
       " 'finditer',\n",
       " 'fullmatch',\n",
       " 'functools',\n",
       " 'match',\n",
       " 'purge',\n",
       " 'search',\n",
       " 'split',\n",
       " 'sub',\n",
       " 'subn',\n",
       " 'template']"
      ]
     },
     "execution_count": 61,
     "metadata": {},
     "output_type": "execute_result"
    }
   ],
   "source": [
    "dir(re)"
   ]
  }
 ],
 "metadata": {
  "kernelspec": {
   "display_name": ".venv",
   "language": "python",
   "name": "python3"
  },
  "language_info": {
   "codemirror_mode": {
    "name": "ipython",
    "version": 3
   },
   "file_extension": ".py",
   "mimetype": "text/x-python",
   "name": "python",
   "nbconvert_exporter": "python",
   "pygments_lexer": "ipython3",
   "version": "3.11.9"
  }
 },
 "nbformat": 4,
 "nbformat_minor": 2
}
