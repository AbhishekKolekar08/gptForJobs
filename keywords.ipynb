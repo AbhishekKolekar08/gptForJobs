{
 "cells": [
  {
   "cell_type": "code",
   "execution_count": 1,
   "metadata": {},
   "outputs": [
    {
     "name": "stdout",
     "output_type": "stream",
     "text": [
      "{\n",
      "\"Verification\": 10,\n",
      "\"Calibration\": 9,\n",
      "\"ADAS\": 8,\n",
      "\"Autonomous Driving\": 7,\n",
      "\"Engineering\": 7,\n",
      "\"Testing\": 6,\n",
      "\"Analysis\": 5,\n",
      "\"Automotive\": 5,\n",
      "\"Innovation\": 4,\n",
      "\"Quality\": 4,\n",
      "\"Documentation\": 3,\n",
      "\"Collaboration\": 2,\n",
      "\"Communication\": 2\n",
      "}\n"
     ]
    }
   ],
   "source": [
    "# Takes a job description and outputs keywords and skills that are relevant. Works, barring some changes between different runs\n",
    "import cohere\n",
    "import pandas as pd\n",
    "\n",
    "co = cohere.Client(\"YOUImGXa6Wg0XgfsFdM0c2iIFOX3fM8UDMKzdGYZ\")\n",
    "JD = open(\"jobDesc.txt\",'r').read()\n",
    "\n",
    "response = co.chat(\n",
    "\tmessage = \"Following is a job description of a role I want to apply to:\\n\" + JD + \"\\n\\nImagine you are a seasoned hiring manager. List the main keywords you would put in this job description that candidates need to fulfill. Give those keywords a weighing score from 1 to 10 in order of relevance. Feel free to merge similar keywords and aggregate their score. Output the main keywords and their scores as a dictionary, only keep the dictionary, no extra word\"\n",
    ")\n",
    "datas = response.text\n",
    "# datas = datas.strip().split('\\n')[2:]\n",
    "# parsed_data = [data.split('|')[1:3] for data in datas]\n",
    "# parsed_data = [(skill.strip(), int(score.strip())) for skill, score in parsed_data]  # Clean up spaces and convert score to int\n",
    "# df = pd.DataFrame(parsed_data, columns=['Keyword/Skill', 'Relevance Score'])\n",
    "# df\n",
    "print(datas)\n",
    "\n"
   ]
  },
  {
   "cell_type": "code",
   "execution_count": 5,
   "metadata": {},
   "outputs": [
    {
     "name": "stdout",
     "output_type": "stream",
     "text": [
      "Test\n",
      "{\n",
      "\"Verification\": 10,\n",
      "\"Calibration\": 9,\n",
      "\"ADAS\": 8,\n",
      "\"Autonomous Driving\": 7,\n",
      "\"Engineering\": 7,\n",
      "\"Testing\": 6,\n",
      "\"Analysis\": 5,\n",
      "\"Automotive\": 5,\n",
      "\"Innovation\": 4,\n",
      "\"Quality\": 4,\n",
      "\"Documentation\": 3,\n",
      "\"Collaboration\": 2,\n",
      "\"Communication\": 2\n",
      "}\n"
     ]
    }
   ],
   "source": [
    "print(\"Test\\n\" + str(datas))"
   ]
  }
 ],
 "metadata": {
  "kernelspec": {
   "display_name": ".venv",
   "language": "python",
   "name": "python3"
  },
  "language_info": {
   "codemirror_mode": {
    "name": "ipython",
    "version": 3
   },
   "file_extension": ".py",
   "mimetype": "text/x-python",
   "name": "python",
   "nbconvert_exporter": "python",
   "pygments_lexer": "ipython3",
   "version": "3.11.9"
  }
 },
 "nbformat": 4,
 "nbformat_minor": 2
}
