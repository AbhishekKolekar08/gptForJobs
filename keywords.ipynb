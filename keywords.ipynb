{
 "cells": [
  {
   "cell_type": "code",
   "execution_count": 13,
   "metadata": {},
   "outputs": [
    {
     "name": "stdout",
     "output_type": "stream",
     "text": [
      "{\n",
      "    \"Test Engineer\": 10,\n",
      "    \"Ride Comfort\": 9,\n",
      "    \"Vehicle Dynamics\": 8,\n",
      "    \"ADAS\": 7,\n",
      "    \"Automotive Testing\": 6,\n",
      "    \"Mechanical Engineering\": 5,\n",
      "    \"Master's Degree\": 4,\n",
      "    \"Vehicle Instrumentation\": 3,\n",
      "    \"Agile Methodology\": 2,\n",
      "    \"Communication Skills\": 1\n",
      "}\n"
     ]
    }
   ],
   "source": [
    "# Takes a job description and outputs keywords and skills that are relevant. Works, barring some changes between different runs\n",
    "import cohere\n",
    "import pandas as pd\n",
    "\n",
    "co = cohere.Client(\"YOUImGXa6Wg0XgfsFdM0c2iIFOX3fM8UDMKzdGYZ\")\n",
    "JD = open(\"jobDesc.txt\",'r').read()\n",
    "\n",
    "response = co.chat(\n",
    "\tmessage = \"Following is a job description of a role I want to apply to:\\n\" + JD + \"\\n\\nImagine you are a seasoned hiring manager. List the main keywords you would put in this job description that candidates need to fulfill. Give those keywords a weighing score from 1 to 10 in order of relevance. Feel free to merge similar keywords and aggregate their score. Output the main keywords and their scores as a dictionary, only keep the dictionary, no extra word\"\n",
    ")\n",
    "datas = response.text\n",
    "# datas = datas.strip().split('\\n')[2:]\n",
    "# parsed_data = [data.split('|')[1:3] for data in datas]\n",
    "# parsed_data = [(skill.strip(), int(score.strip())) for skill, score in parsed_data]  # Clean up spaces and convert score to int\n",
    "# df = pd.DataFrame(parsed_data, columns=['Keyword/Skill', 'Relevance Score'])\n",
    "# df\n",
    "print(datas)\n",
    "\n"
   ]
  },
  {
   "cell_type": "code",
   "execution_count": null,
   "metadata": {},
   "outputs": [],
   "source": [
    "# Automatically scrapping JD\n",
    "import requests\n",
    "from bs4 import BeautifulSoup\n",
    "\n",
    "def extract_job_description(url):\n",
    "    # Step 1: Fetch the webpage content\n",
    "    response = requests.get(url)\n",
    "    \n",
    "    # Check if request was successful\n",
    "    if response.status_code != 200:\n",
    "        print(\"Failed to retrieve the page.\")\n",
    "        return None\n",
    "    \n",
    "    # Step 2: Parse the HTML\n",
    "    soup = BeautifulSoup(response.text, 'html.parser')\n",
    "    \n",
    "    # Step 3: Extract the job description\n",
    "    # Note: This part varies depending on the website structure. \n",
    "    # We need to inspect the HTML structure of the job description section.\n",
    "    # Let's assume the job description is inside a div with a class like \"job-description\"\n",
    "    \n",
    "    # This is a generic example; adapt based on the site structure:\n",
    "    description = soup.find('div', {'class': 'job-description'})\n",
    "    \n",
    "    if description:\n",
    "        # Remove any extraneous HTML tags and get text content\n",
    "        job_description_text = description.get_text(separator=\"\\n\", strip=True)\n",
    "        return job_description_text\n",
    "    else:\n",
    "        print(\"Job description section not found.\")\n",
    "        return None\n",
    "\n",
    "# Example usage\n",
    "url = \"https://jobs.volvocars.com/job/Gothenburg-CAE-Analyst-40531/1136015601/\"\n",
    "job_description = extract_job_description(url)\n",
    "print(job_description)\n"
   ]
  }
 ],
 "metadata": {
  "kernelspec": {
   "display_name": ".venv",
   "language": "python",
   "name": "python3"
  },
  "language_info": {
   "codemirror_mode": {
    "name": "ipython",
    "version": 3
   },
   "file_extension": ".py",
   "mimetype": "text/x-python",
   "name": "python",
   "nbconvert_exporter": "python",
   "pygments_lexer": "ipython3",
   "version": "3.11.9"
  }
 },
 "nbformat": 4,
 "nbformat_minor": 2
}
